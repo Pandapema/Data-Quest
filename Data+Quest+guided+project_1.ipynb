{
 "cells": [
  {
   "cell_type": "markdown",
   "metadata": {},
   "source": [
    "# <b style=\"color:#2B3A38\">Data Quest guided project. </b>\n",
    "<b style=\"color:#2B3A38\">_(учебное задание платформы <a href=\"https://www.dataquest.io/\">Data Quest)</a>_</b>\n"
   ]
  },
  {
   "cell_type": "markdown",
   "metadata": {},
   "source": [
    "<table border=\"0\">\n",
    " <tr>\n",
    "    <td><b style=\"color:#2B3A38\">Finding the Best Two Markets to Advertise In.</b></td>\n",
    "    <td><b style=\"color:#10979E\">Поиск двух лучших рынков для размещения рекламы.</b></td>\n",
    " </tr>\n",
    " <tr>\n",
    "    <td><span style=\"color:#2B3A38\">Let's assume that we're working for an an e-learning company that offers courses on programming. Most of our courses are on web and mobile development, but we also cover many other domains, like data science, game development, etc. We want to promote our product and we'd like to invest some money in advertisement.\n",
    "    <br>Our goal in this project is to find out the two best markets to advertise our product in.</span></td>\n",
    "    <td><span style=\"color:#10979E\">Давайте предположим, что мы работаем на e-learning компанию, которая предлагает курсы по программированию. Большинство наших курсов посвящено веб и мобильной разроботке, но мы также но мы также охватываем многие другие области, такие как наука о данных, разработка игр и т.д. Мы хотим продвигать наш продукт и хотим вложить деньги в рекламу.\n",
    "     <br>Наша цель в этом проекте — найти два лучших рынка для рекламы нашего продукта.</span></td>\n",
    " </tr>\n",
    "</table>\n",
    "\n",
    "\n",
    "\n"
   ]
  },
  {
   "cell_type": "markdown",
   "metadata": {},
   "source": [
    "---\n",
    "\n",
    "<table border=\"0\">\n",
    "<tr>\n",
    "    <td><span style=\"color:#2B3A38\">To reach our goal, we could organize surveys for a couple of different markets to find out which would the best choices for advertising. This is very costly, however, and it's a good call to explore cheaper options first.\n",
    "\n",
    " <br> <br>We can try to search existing data that might be relevant for our purpose. One good candidate is the data from <a href=\"https://medium.freecodecamp.org/we-asked-20-000-people-who-they-are-and-how-theyre-learning-to-code-fff5d668969\">freeCodeCamp's 2018 New Coder Survey</a>.\n",
    " <br> <a href=\"https://www.freecodecamp.org/\">freeCodeCamp</a> is a free e-learning platform that offers courses on web development. Because they run a popular Medium publication (over 400,000 followers), their survey attracted new coders with varying interests (not only web development), which is ideal for the purpose of our analysis.\n",
    " <br>The survey data is publicly available in this <a href=\"https://github.com/freeCodeCamp/2017-new-coder-survey\">GitHub repository.</a><br><br>Read in the '2017-fCC-New-Coders-Survey-Data.csv' file and explore the data set:\n",
    "\n",
    "\n",
    "   </span></td>\n",
    "   \n",
    "   <td><span style=\"color:#10979E\">Чтобы достичь нашей цели, мы могли бы организовать опросы для нескольких разных рынков, чтобы выяснить, какие из них лучше всего подходят для рекламы. Однако это очень дорого, и это хороший повод сначала изучить более дешевые варианты.<br><br>Мы можем попытаться найти существующие данные, которые могут иметь отношение к нашей цели. Одним из хороших кандидатов являются данные из <a href=\"https://medium.freecodecamp.org/we-asked-20-000-people-who-they-are-and-how-theyre-learning-to-code-fff5d668969\">опроса для новичков в программировании, проведенного freeCodeCamp в 2018 году</a>.<br> <a href=\"https://www.freecodecamp.org/\">freeCodeCamp</a> — это бесплатная платформа электронного обучения, которая предлагает курсы по веб-разработке. Поскольку у них есть популярная платформа Medium (более 400 000 подписчиков), их опрос привлек новых программистов с разными интересами (не только веб-разработки), что идеально подходит для целей нашего анализа.<br>Данные опроса находятся в открытом доступе в <a href=\"https://github.com/freeCodeCamp/2017-new-coder-survey\">репозитории GitHub</a>.<br><br>Изучим данные из файла '2017-fCC-New-Coders-Survey-Data.csv':</td>\n",
    " </tr>\n",
    "</table>"
   ]
  },
  {
   "cell_type": "code",
   "execution_count": 7,
   "metadata": {
    "jupyter": {
     "outputs_hidden": false
    },
    "scrolled": true
   },
   "outputs": [
    {
     "name": "stdout",
     "output_type": "stream",
     "text": [
      "table size: 136 columns & 18175 rows\n"
     ]
    }
   ],
   "source": [
    "import pandas as pd\n",
    "pd.set_option('display.max_rows', 500)\n",
    "data = pd.read_csv('2017-fCC-New-Coders-Survey-Data.csv',low_memory = 0) \n",
    "\n",
    "print('table size:',data.shape[1],'columns &', data.shape[0], 'rows')"
   ]
  },
  {
   "cell_type": "code",
   "execution_count": 4,
   "metadata": {
    "jupyter": {
     "outputs_hidden": false
    },
    "scrolled": true
   },
   "outputs": [
    {
     "data": {
      "text/html": [
       "<div>\n",
       "<style scoped>\n",
       "    .dataframe tbody tr th:only-of-type {\n",
       "        vertical-align: middle;\n",
       "    }\n",
       "\n",
       "    .dataframe tbody tr th {\n",
       "        vertical-align: top;\n",
       "    }\n",
       "\n",
       "    .dataframe thead th {\n",
       "        text-align: right;\n",
       "    }\n",
       "</style>\n",
       "<table border=\"1\" class=\"dataframe\">\n",
       "  <thead>\n",
       "    <tr style=\"text-align: right;\">\n",
       "      <th></th>\n",
       "      <th>Age</th>\n",
       "      <th>AttendedBootcamp</th>\n",
       "      <th>BootcampFinish</th>\n",
       "      <th>BootcampLoanYesNo</th>\n",
       "      <th>BootcampName</th>\n",
       "      <th>BootcampRecommend</th>\n",
       "      <th>ChildrenNumber</th>\n",
       "      <th>CityPopulation</th>\n",
       "      <th>CodeEventConferences</th>\n",
       "      <th>CodeEventDjangoGirls</th>\n",
       "      <th>...</th>\n",
       "      <th>YouTubeFCC</th>\n",
       "      <th>YouTubeFunFunFunction</th>\n",
       "      <th>YouTubeGoogleDev</th>\n",
       "      <th>YouTubeLearnCode</th>\n",
       "      <th>YouTubeLevelUpTuts</th>\n",
       "      <th>YouTubeMIT</th>\n",
       "      <th>YouTubeMozillaHacks</th>\n",
       "      <th>YouTubeOther</th>\n",
       "      <th>YouTubeSimplilearn</th>\n",
       "      <th>YouTubeTheNewBoston</th>\n",
       "    </tr>\n",
       "  </thead>\n",
       "  <tbody>\n",
       "    <tr>\n",
       "      <th>0</th>\n",
       "      <td>27.0</td>\n",
       "      <td>0.0</td>\n",
       "      <td>NaN</td>\n",
       "      <td>NaN</td>\n",
       "      <td>NaN</td>\n",
       "      <td>NaN</td>\n",
       "      <td>NaN</td>\n",
       "      <td>more than 1 million</td>\n",
       "      <td>NaN</td>\n",
       "      <td>NaN</td>\n",
       "      <td>...</td>\n",
       "      <td>NaN</td>\n",
       "      <td>NaN</td>\n",
       "      <td>NaN</td>\n",
       "      <td>NaN</td>\n",
       "      <td>NaN</td>\n",
       "      <td>NaN</td>\n",
       "      <td>NaN</td>\n",
       "      <td>NaN</td>\n",
       "      <td>NaN</td>\n",
       "      <td>NaN</td>\n",
       "    </tr>\n",
       "    <tr>\n",
       "      <th>1</th>\n",
       "      <td>34.0</td>\n",
       "      <td>0.0</td>\n",
       "      <td>NaN</td>\n",
       "      <td>NaN</td>\n",
       "      <td>NaN</td>\n",
       "      <td>NaN</td>\n",
       "      <td>NaN</td>\n",
       "      <td>less than 100,000</td>\n",
       "      <td>NaN</td>\n",
       "      <td>NaN</td>\n",
       "      <td>...</td>\n",
       "      <td>1.0</td>\n",
       "      <td>NaN</td>\n",
       "      <td>NaN</td>\n",
       "      <td>NaN</td>\n",
       "      <td>NaN</td>\n",
       "      <td>NaN</td>\n",
       "      <td>NaN</td>\n",
       "      <td>NaN</td>\n",
       "      <td>NaN</td>\n",
       "      <td>NaN</td>\n",
       "    </tr>\n",
       "    <tr>\n",
       "      <th>2</th>\n",
       "      <td>21.0</td>\n",
       "      <td>0.0</td>\n",
       "      <td>NaN</td>\n",
       "      <td>NaN</td>\n",
       "      <td>NaN</td>\n",
       "      <td>NaN</td>\n",
       "      <td>NaN</td>\n",
       "      <td>more than 1 million</td>\n",
       "      <td>NaN</td>\n",
       "      <td>NaN</td>\n",
       "      <td>...</td>\n",
       "      <td>NaN</td>\n",
       "      <td>NaN</td>\n",
       "      <td>NaN</td>\n",
       "      <td>1.0</td>\n",
       "      <td>1.0</td>\n",
       "      <td>NaN</td>\n",
       "      <td>NaN</td>\n",
       "      <td>NaN</td>\n",
       "      <td>NaN</td>\n",
       "      <td>NaN</td>\n",
       "    </tr>\n",
       "    <tr>\n",
       "      <th>3</th>\n",
       "      <td>26.0</td>\n",
       "      <td>0.0</td>\n",
       "      <td>NaN</td>\n",
       "      <td>NaN</td>\n",
       "      <td>NaN</td>\n",
       "      <td>NaN</td>\n",
       "      <td>NaN</td>\n",
       "      <td>between 100,000 and 1 million</td>\n",
       "      <td>NaN</td>\n",
       "      <td>NaN</td>\n",
       "      <td>...</td>\n",
       "      <td>1.0</td>\n",
       "      <td>1.0</td>\n",
       "      <td>NaN</td>\n",
       "      <td>NaN</td>\n",
       "      <td>1.0</td>\n",
       "      <td>NaN</td>\n",
       "      <td>NaN</td>\n",
       "      <td>NaN</td>\n",
       "      <td>NaN</td>\n",
       "      <td>NaN</td>\n",
       "    </tr>\n",
       "    <tr>\n",
       "      <th>4</th>\n",
       "      <td>20.0</td>\n",
       "      <td>0.0</td>\n",
       "      <td>NaN</td>\n",
       "      <td>NaN</td>\n",
       "      <td>NaN</td>\n",
       "      <td>NaN</td>\n",
       "      <td>NaN</td>\n",
       "      <td>between 100,000 and 1 million</td>\n",
       "      <td>NaN</td>\n",
       "      <td>NaN</td>\n",
       "      <td>...</td>\n",
       "      <td>NaN</td>\n",
       "      <td>NaN</td>\n",
       "      <td>NaN</td>\n",
       "      <td>NaN</td>\n",
       "      <td>NaN</td>\n",
       "      <td>NaN</td>\n",
       "      <td>NaN</td>\n",
       "      <td>NaN</td>\n",
       "      <td>NaN</td>\n",
       "      <td>NaN</td>\n",
       "    </tr>\n",
       "  </tbody>\n",
       "</table>\n",
       "<p>5 rows × 136 columns</p>\n",
       "</div>"
      ],
      "text/plain": [
       "    Age  AttendedBootcamp  BootcampFinish  BootcampLoanYesNo BootcampName  \\\n",
       "0  27.0               0.0             NaN                NaN          NaN   \n",
       "1  34.0               0.0             NaN                NaN          NaN   \n",
       "2  21.0               0.0             NaN                NaN          NaN   \n",
       "3  26.0               0.0             NaN                NaN          NaN   \n",
       "4  20.0               0.0             NaN                NaN          NaN   \n",
       "\n",
       "   BootcampRecommend  ChildrenNumber                 CityPopulation  \\\n",
       "0                NaN             NaN            more than 1 million   \n",
       "1                NaN             NaN              less than 100,000   \n",
       "2                NaN             NaN            more than 1 million   \n",
       "3                NaN             NaN  between 100,000 and 1 million   \n",
       "4                NaN             NaN  between 100,000 and 1 million   \n",
       "\n",
       "   CodeEventConferences  CodeEventDjangoGirls  ...  YouTubeFCC  \\\n",
       "0                   NaN                   NaN  ...         NaN   \n",
       "1                   NaN                   NaN  ...         1.0   \n",
       "2                   NaN                   NaN  ...         NaN   \n",
       "3                   NaN                   NaN  ...         1.0   \n",
       "4                   NaN                   NaN  ...         NaN   \n",
       "\n",
       "   YouTubeFunFunFunction  YouTubeGoogleDev  YouTubeLearnCode  \\\n",
       "0                    NaN               NaN               NaN   \n",
       "1                    NaN               NaN               NaN   \n",
       "2                    NaN               NaN               1.0   \n",
       "3                    1.0               NaN               NaN   \n",
       "4                    NaN               NaN               NaN   \n",
       "\n",
       "   YouTubeLevelUpTuts  YouTubeMIT  YouTubeMozillaHacks YouTubeOther  \\\n",
       "0                 NaN         NaN                  NaN          NaN   \n",
       "1                 NaN         NaN                  NaN          NaN   \n",
       "2                 1.0         NaN                  NaN          NaN   \n",
       "3                 1.0         NaN                  NaN          NaN   \n",
       "4                 NaN         NaN                  NaN          NaN   \n",
       "\n",
       "   YouTubeSimplilearn  YouTubeTheNewBoston  \n",
       "0                 NaN                  NaN  \n",
       "1                 NaN                  NaN  \n",
       "2                 NaN                  NaN  \n",
       "3                 NaN                  NaN  \n",
       "4                 NaN                  NaN  \n",
       "\n",
       "[5 rows x 136 columns]"
      ]
     },
     "execution_count": 4,
     "metadata": {},
     "output_type": "execute_result"
    }
   ],
   "source": [
    "data.head()"
   ]
  },
  {
   "cell_type": "code",
   "execution_count": 5,
   "metadata": {
    "scrolled": true
   },
   "outputs": [
    {
     "data": {
      "text/plain": [
       "['Age',\n",
       " 'AttendedBootcamp',\n",
       " 'BootcampFinish',\n",
       " 'BootcampLoanYesNo',\n",
       " 'BootcampName',\n",
       " 'BootcampRecommend',\n",
       " 'ChildrenNumber',\n",
       " 'CityPopulation',\n",
       " 'CodeEventConferences',\n",
       " 'CodeEventDjangoGirls',\n",
       " 'CodeEventFCC',\n",
       " 'CodeEventGameJam',\n",
       " 'CodeEventGirlDev',\n",
       " 'CodeEventHackathons',\n",
       " 'CodeEventMeetup',\n",
       " 'CodeEventNodeSchool',\n",
       " 'CodeEventNone',\n",
       " 'CodeEventOther',\n",
       " 'CodeEventRailsBridge',\n",
       " 'CodeEventRailsGirls',\n",
       " 'CodeEventStartUpWknd',\n",
       " 'CodeEventWkdBootcamps',\n",
       " 'CodeEventWomenCode',\n",
       " 'CodeEventWorkshops',\n",
       " 'CommuteTime',\n",
       " 'CountryCitizen',\n",
       " 'CountryLive',\n",
       " 'EmploymentField',\n",
       " 'EmploymentFieldOther',\n",
       " 'EmploymentStatus',\n",
       " 'EmploymentStatusOther',\n",
       " 'ExpectedEarning',\n",
       " 'FinanciallySupporting',\n",
       " 'FirstDevJob',\n",
       " 'Gender',\n",
       " 'GenderOther',\n",
       " 'HasChildren',\n",
       " 'HasDebt',\n",
       " 'HasFinancialDependents',\n",
       " 'HasHighSpdInternet',\n",
       " 'HasHomeMortgage',\n",
       " 'HasServedInMilitary',\n",
       " 'HasStudentDebt',\n",
       " 'HomeMortgageOwe',\n",
       " 'HoursLearning',\n",
       " 'ID.x',\n",
       " 'ID.y',\n",
       " 'Income',\n",
       " 'IsEthnicMinority',\n",
       " 'IsReceiveDisabilitiesBenefits',\n",
       " 'IsSoftwareDev',\n",
       " 'IsUnderEmployed',\n",
       " 'JobApplyWhen',\n",
       " 'JobInterestBackEnd',\n",
       " 'JobInterestDataEngr',\n",
       " 'JobInterestDataSci',\n",
       " 'JobInterestDevOps',\n",
       " 'JobInterestFrontEnd',\n",
       " 'JobInterestFullStack',\n",
       " 'JobInterestGameDev',\n",
       " 'JobInterestInfoSec',\n",
       " 'JobInterestMobile',\n",
       " 'JobInterestOther',\n",
       " 'JobInterestProjMngr',\n",
       " 'JobInterestQAEngr',\n",
       " 'JobInterestUX',\n",
       " 'JobPref',\n",
       " 'JobRelocateYesNo',\n",
       " 'JobRoleInterest',\n",
       " 'JobWherePref',\n",
       " 'LanguageAtHome',\n",
       " 'MaritalStatus',\n",
       " 'MoneyForLearning',\n",
       " 'MonthsProgramming',\n",
       " 'NetworkID',\n",
       " 'Part1EndTime',\n",
       " 'Part1StartTime',\n",
       " 'Part2EndTime',\n",
       " 'Part2StartTime',\n",
       " 'PodcastChangeLog',\n",
       " 'PodcastCodeNewbie',\n",
       " 'PodcastCodePen',\n",
       " 'PodcastDevTea',\n",
       " 'PodcastDotNET',\n",
       " 'PodcastGiantRobots',\n",
       " 'PodcastJSAir',\n",
       " 'PodcastJSJabber',\n",
       " 'PodcastNone',\n",
       " 'PodcastOther',\n",
       " 'PodcastProgThrowdown',\n",
       " 'PodcastRubyRogues',\n",
       " 'PodcastSEDaily',\n",
       " 'PodcastSERadio',\n",
       " 'PodcastShopTalk',\n",
       " 'PodcastTalkPython',\n",
       " 'PodcastTheWebAhead',\n",
       " 'ResourceCodecademy',\n",
       " 'ResourceCodeWars',\n",
       " 'ResourceCoursera',\n",
       " 'ResourceCSS',\n",
       " 'ResourceEdX',\n",
       " 'ResourceEgghead',\n",
       " 'ResourceFCC',\n",
       " 'ResourceHackerRank',\n",
       " 'ResourceKA',\n",
       " 'ResourceLynda',\n",
       " 'ResourceMDN',\n",
       " 'ResourceOdinProj',\n",
       " 'ResourceOther',\n",
       " 'ResourcePluralSight',\n",
       " 'ResourceSkillcrush',\n",
       " 'ResourceSO',\n",
       " 'ResourceTreehouse',\n",
       " 'ResourceUdacity',\n",
       " 'ResourceUdemy',\n",
       " 'ResourceW3S',\n",
       " 'SchoolDegree',\n",
       " 'SchoolMajor',\n",
       " 'StudentDebtOwe',\n",
       " 'YouTubeCodeCourse',\n",
       " 'YouTubeCodingTrain',\n",
       " 'YouTubeCodingTut360',\n",
       " 'YouTubeComputerphile',\n",
       " 'YouTubeDerekBanas',\n",
       " 'YouTubeDevTips',\n",
       " 'YouTubeEngineeredTruth',\n",
       " 'YouTubeFCC',\n",
       " 'YouTubeFunFunFunction',\n",
       " 'YouTubeGoogleDev',\n",
       " 'YouTubeLearnCode',\n",
       " 'YouTubeLevelUpTuts',\n",
       " 'YouTubeMIT',\n",
       " 'YouTubeMozillaHacks',\n",
       " 'YouTubeOther',\n",
       " 'YouTubeSimplilearn',\n",
       " 'YouTubeTheNewBoston']"
      ]
     },
     "execution_count": 5,
     "metadata": {},
     "output_type": "execute_result"
    }
   ],
   "source": [
    "# Посмотрим названия столбцов\n",
    "list(data.columns.values)\n"
   ]
  },
  {
   "cell_type": "markdown",
   "metadata": {},
   "source": [
    "---\n",
    "\n",
    "<table border=\"0\">\n",
    "<tr>\n",
    "    <td><span style=\"color:#2B3A38\">These columns seem relevant for the purpose of our analysis:<br><br>\n",
    "'JobRoleInterest' - describes for every participant the role(s) they'd be interested in working.<br><br>\n",
    "'CountryCitizen' - variable describes the country of origin for each participant, and the 'CountryLive' variable describes what country each participants lives in (which may be different than the origin country).For our analysis, we'll work with the 'CountryLive' variable because we're interested where people actually live at the moment.<br><br>\n",
    "'MoneyForLearning' - column describes in American dollars the amount of money spent by participants from the moment they started coding until the moment they completed the survey<br></span></td>\n",
    "   \n",
    "   <td><span style=\"color:#10979E\">Для нашего исследования интересными кажутся столбцы:<br><br>\n",
    "'JobRoleInterest' - интересующая опрашиваемого сфера применения программирования<br><br>\n",
    "'CountryLive' и 'CountryCitizen' - страна проживания и гражданство. В исследовании мы будет использовать информацию из столбца 'CountryLive', так как нас больше интересует где участник/ца опроса живет в данный момент.<br><br>\n",
    "'MoneyForLearning' - сколько участник/ца потратили на обучение кодированию на момент прохождения опроса<br></span></td>\n",
    " </tr>\n",
    "</table>"
   ]
  },
  {
   "cell_type": "markdown",
   "metadata": {},
   "source": [
    "---\n",
    "\n",
    "<table border=\"0\">\n",
    " <tr>\n",
    "    <td><b style=\"color:#2B3A38\">Checking for Sample Representativity.</b></td>\n",
    "    <td><b style=\"color:#10979E\">Поиск двух лучших рынков для размещения рекламы.</b></td>\n",
    " </tr>\n",
    " <tr>\n",
    "    <td><span style=\"color:#2B3A38\">Before starting to analyze the sample data we have, we need to clarify whether it's representative for our population of interest and it has the right categories of people for our purpose.<br><br>Lets analyse  the 'JobRoleInterest' column:</span></td>\n",
    "    <td><span style=\"color:#10979E\">Перед тем как начать анализировать имеющиеся у нас выборочные данные, нам необходимо уточнить, являются ли они репрезентативными для интересующей нас совокупности и содержат ли подходящие категории людей для нашей цели.<br>  \n",
    "     <br>Для этого проанализируем столбец 'JobRoleInterest':</span></td>\n",
    " </tr>\n",
    "</table>\n"
   ]
  },
  {
   "cell_type": "code",
   "execution_count": 11,
   "metadata": {
    "jupyter": {
     "outputs_hidden": false
    },
    "scrolled": true
   },
   "outputs": [
    {
     "name": "stdout",
     "output_type": "stream",
     "text": [
      "  Data Scientist                                                                                                                                                                                          2.173913\n",
      "  Data Scientist,   DevOps / SysAdmin                                                                                                                                                                     0.014302\n",
      "  Data Scientist,   DevOps / SysAdmin,   Front-End Web Developer, Full-Stack Web Developer, Data Engineer                                                                                                 0.014302\n",
      "  Data Scientist,   DevOps / SysAdmin,   Mobile Developer,   Front-End Web Developer,   Quality Assurance Engineer, Information Security,   Product Manager,   User Experience Designer, Data Engineer    0.014302\n",
      "  Data Scientist,   DevOps / SysAdmin,   Product Manager                                                                                                                                                  0.014302\n",
      "                                                                                                                                                                                                            ...   \n",
      "philosopher                                                                                                                                                                                               0.014302\n",
      "programmer                                                                                                                                                                                                0.014302\n",
      "software developer                                                                                                                                                                                        0.014302\n",
      "undeceided                                                                                                                                                                                                0.014302\n",
      "undecided                                                                                                                                                                                                 0.028604\n",
      "Name: JobRoleInterest, Length: 3213, dtype: float64\n"
     ]
    }
   ],
   "source": [
    "print(data['JobRoleInterest'].value_counts(normalize=True).sort_index()*100)"
   ]
  },
  {
   "cell_type": "code",
   "execution_count": 8,
   "metadata": {
    "jupyter": {
     "outputs_hidden": false
    },
    "scrolled": true
   },
   "outputs": [
    {
     "data": {
      "text/plain": [
       "1     31.650458\n",
       "2     10.883867\n",
       "3     15.889588\n",
       "4     15.217391\n",
       "5     12.042334\n",
       "6      6.721968\n",
       "7      3.861556\n",
       "8      1.759153\n",
       "9      0.986842\n",
       "10     0.471968\n",
       "11     0.185927\n",
       "12     0.300343\n",
       "13     0.028604\n",
       "Name: JobRoleInterest, dtype: float64"
      ]
     },
     "execution_count": 8,
     "metadata": {},
     "output_type": "execute_result"
    }
   ],
   "source": [
    "#remove nulls and split into list\n",
    "#сохраним все ненулевые значения в отдельную таблицу в формате листов\n",
    "\n",
    "JRI_no_null = data['JobRoleInterest'].dropna()\n",
    "JRI_list = JRI_no_null.str.split(',')\n",
    "\n",
    "#lets see if most people are interested in more than one subject.\n",
    "#посмотрим какому проценту опрошенных интересно более одной темы.\n",
    "\n",
    "number_of_interests = JRI_list.apply(lambda x: len(x))\n",
    "number_of_interests.value_counts(normalize = True).sort_index()*100"
   ]
  },
  {
   "cell_type": "markdown",
   "metadata": {
    "jupyter": {
     "outputs_hidden": false
    }
   },
   "source": [
    "---\n",
    "\n",
    "<table border=\"0\">\n",
    "<tr>\n",
    "    <td><span style=\"color:#2B3A38\">It turns out that only 31.7% of the participants have a clear idea about what programming niche they'd like to work in, while the vast majority of students have mixed interests. But given that we offer courses on various subjects, the fact that new coders have mixed interest might be actually good for us.\n",
    "\n",
    "The focus of our courses is on web and mobile development, so let's find out how many respondents chose at least one of these two options.<br></span></td>\n",
    "   \n",
    "   <td><span style=\"color:#10979E\">Мы выяснили, что только 31.7% участников опроса имеют четкое представление о том, в какой нише программирования они хотели бы работать, в то время как у подавляющего большинства студентов интересы смешанные. Но учитывая, что мы предлагаем курсы по разным предметам, тот факт, что новые программисты проявляют смешанный интерес, может быть для нас действительно полезен.\n",
    "\n",
    "В центре внимания наших курсов находится веб- и мобильная разработка, поэтому давайте узнаем, сколько респондентов выбрали хотя бы один из этих двух вариантов. <br></span></td>\n",
    " </tr>\n",
    "</table>\n"
   ]
  },
  {
   "cell_type": "code",
   "execution_count": 12,
   "metadata": {},
   "outputs": [],
   "source": [
    "#Check if row contains web or mobile development interest\n",
    "#Проверяем столбец на наличие интереса к веб и мобильной разроботке\n",
    "\n",
    "\n",
    "#returns an array of booleans\n",
    "#возвращает массив boolean\n",
    "interest_boolean = JRI_no_null.str.contains('Web Developer|Mobile Developer')"
   ]
  },
  {
   "cell_type": "code",
   "execution_count": 13,
   "metadata": {},
   "outputs": [
    {
     "name": "stdout",
     "output_type": "stream",
     "text": [
      "True     86.241419\n",
      "False    13.758581\n",
      "Name: JobRoleInterest, dtype: float64\n"
     ]
    }
   ],
   "source": [
    "freq_table = interest_boolean.value_counts(normalize = True) * 100\n",
    "print(freq_table)"
   ]
  },
  {
   "cell_type": "code",
   "execution_count": 8,
   "metadata": {},
   "outputs": [
    {
     "data": {
      "image/png": "[encoded data removed]",
      "text/plain": [
       "<Figure size 576x396 with 1 Axes>"
      ]
     },
     "metadata": {},
     "output_type": "display_data"
    }
   ],
   "source": [
    "import matplotlib.pyplot as plt\n",
    "plt.style.use('seaborn')\n",
    "\n",
    "freq_table.plot.bar()\n",
    "\n",
    "plt.title('Most Participants are Interested in \\nWeb or Mobile Development\\n\\n Большинство учаcтников заинтересованы\\nв веб и мобильной разроботкe',\n",
    "          fontsize = 15, y = 1.08) # y pads the title upward\n",
    "plt.ylabel('Percentage \\n Процент', fontsize = 15)\n",
    "plt.xticks([0,1],['Web or mobile\\ndevelopment\\nВеб и мобильная разроботка', 'Other subject\\nДругая тематика'], \n",
    "           fontsize = 15, rotation = 0) # the initial xtick labels were True and False\n",
    "plt.ylim([0,100])\n",
    "plt.show()"
   ]
  },
  {
   "cell_type": "markdown",
   "metadata": {},
   "source": [
    "It turns out that most people in this survey (roughly 86%) are interested in either web or mobile development. These figures offer us a strong reason to consider this sample representative for our population of interest. We want to advertise our courses to people interested in all sorts of programming niches but mostly web and mobile development.\n",
    "\n",
    "Now we need to figure out what are the best markets to invest money in for advertising our courses. We'd like to know:\n",
    "\n",
    "Where are these new coders located.\n",
    "What are the locations with the greatest number of new coders.\n",
    "How much money new coders are willing to spend on learning.\n"
   ]
  },
  {
   "cell_type": "markdown",
   "metadata": {},
   "source": [
    "---\n",
    "\n",
    "<table border=\"0\">\n",
    " <tr>\n",
    "    <td><b style=\"color:#2B3A38\">New Coders - Locations and Densities.</b></td>\n",
    "    <td><b style=\"color:#10979E\">Поиск двух лучших рынков для размещения рекламы.</b></td>\n",
    " </tr>\n",
    " <tr>\n",
    "    <td><span style=\"color:#2B3A38\">Because the data set provides information at a country level, we can think of each country as an individual market. This means we can frame our goal as finding the two best countries to advertise in.:</span></td>\n",
    "    <td><span style=\"color:#10979E\">Перед тем как начать анализировать имеющиеся у нас выборочные данные, нам необходимо уточнить, являются ли они репрезентативными для интересующей нас совокупности и содержат ли подходящие категории людей для нашей цели.<br>  \n",
    "     <br>Для этого проанализируем столбец 'JobRoleInterest':</span></td>\n",
    " </tr>\n",
    "</table>"
   ]
  },
  {
   "cell_type": "code",
   "execution_count": 9,
   "metadata": {
    "scrolled": true
   },
   "outputs": [
    {
     "name": "stdout",
     "output_type": "stream",
     "text": [
      "                          Absolute  Relative, %\n",
      "United States of America      3125    45.700497\n",
      "India                          528     7.721556\n",
      "United Kingdom                 315     4.606610\n",
      "Canada                         260     3.802281\n"
     ]
    }
   ],
   "source": [
    "# Isolate the participants that answered what role they'd be interested in\n",
    "good_data =  data[data['JobRoleInterest'].notnull()].copy()\n",
    "\n",
    "\n",
    "country_absolute_frequencies = good_data['CountryLive'].value_counts()\n",
    "country_relative_frequencies = good_data['CountryLive'].value_counts(normalize = True) * 100\n",
    "\n",
    "country_frequencies = pd.DataFrame({'Absolute': country_absolute_frequencies, 'Relative, %': country_relative_frequencies})\n",
    "\n",
    "print (country_frequencies.head(4))"
   ]
  },
  {
   "cell_type": "markdown",
   "metadata": {},
   "source": [
    "Выводы\n",
    "\n",
    "4 страны лидера: </br>\n",
    "United States of America</br>\n",
    "India                             \n",
    "United Kingdom                   \n",
    "Canada\n",
    "\n"
   ]
  },
  {
   "cell_type": "markdown",
   "metadata": {},
   "source": [
    "\n"
   ]
  }
 ],
 "metadata": {
  "kernelspec": {
   "display_name": "Python 3",
   "language": "python",
   "name": "python3"
  },
  "language_info": {
   "codemirror_mode": {
    "name": "ipython",
    "version": 3
   },
   "file_extension": ".py",
   "mimetype": "text/x-python",
   "name": "python",
   "nbconvert_exporter": "python",
   "pygments_lexer": "ipython3",
   "version": "3.8.5"
  }
 },
 "nbformat": 4,
 "nbformat_minor": 4
}
